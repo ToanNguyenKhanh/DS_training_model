{
 "cells": [
  {
   "cell_type": "code",
   "execution_count": 11,
   "id": "6f4f062c",
   "metadata": {},
   "outputs": [],
   "source": [
    "# a lamda functiion that adds 69 to the input argument\n",
    "# a lambda function is a small (one line) anonymous function"
   ]
  },
  {
   "cell_type": "code",
   "execution_count": 12,
   "id": "72a1b98d",
   "metadata": {},
   "outputs": [
    {
     "name": "stdout",
     "output_type": "stream",
     "text": [
      "70\n",
      "80\n"
     ]
    }
   ],
   "source": [
    "x = lambda so : so + 69\n",
    "def lamdark(y):\n",
    "    return so + 69\n",
    "print(x(1))\n",
    "print(lamdark(11))"
   ]
  },
  {
   "cell_type": "code",
   "execution_count": 13,
   "id": "4763409b",
   "metadata": {},
   "outputs": [
    {
     "data": {
      "text/plain": [
       "2"
      ]
     },
     "execution_count": 13,
     "metadata": {},
     "output_type": "execute_result"
    }
   ],
   "source": [
    "x1 = lambda x,y,z: x+y-z\n",
    "x1(3,4,5)"
   ]
  },
  {
   "cell_type": "code",
   "execution_count": 17,
   "id": "cd509c15",
   "metadata": {},
   "outputs": [
    {
     "name": "stdout",
     "output_type": "stream",
     "text": [
      "[(-1, 3), (2, 10), (6, 9), (9, 6)]\n"
     ]
    },
    {
     "data": {
      "text/plain": [
       "[(-1, 3), (9, 6), (6, 9), (2, 10)]"
      ]
     },
     "execution_count": 17,
     "metadata": {},
     "output_type": "execute_result"
    }
   ],
   "source": [
    "'''Sắp xếp lại chuối dữ liệu'''\n",
    "cordinate2D = [(6, 9), (9,6), (-1,3), (2,10)]\n",
    "print(sorted(cordinate2D)) # sắp xếp theo giá trị thứ nhất\n",
    "sorted(cordinate2D, key = lambda point: point[1]) # sắp xếp theo giá trị thứ 2\n"
   ]
  },
  {
   "cell_type": "code",
   "execution_count": 20,
   "id": "c08e4142",
   "metadata": {},
   "outputs": [
    {
     "name": "stdout",
     "output_type": "stream",
     "text": [
      "[-3, -2, -1, 1, 3, 4, 4, 5, 5]\n",
      "[1, -1, -2, 3, -3, 4, 4, 5, 5]\n"
     ]
    }
   ],
   "source": [
    "number_list = [5,3,-2,4,1,-1,-3,4,5]\n",
    "print(sorted(number_list))\n",
    "print(sorted(number_list, key = lambda x: abs(x)))"
   ]
  },
  {
   "cell_type": "code",
   "execution_count": 25,
   "id": "cd550413",
   "metadata": {},
   "outputs": [
    {
     "data": {
      "text/plain": [
       "['Toan Khanh Nguyen', 'Xin Chao', 'Cac Ban']"
      ]
     },
     "execution_count": 25,
     "metadata": {},
     "output_type": "execute_result"
    }
   ],
   "source": [
    "'''sử dụng lambda trong map function'''\n",
    "# map(func, seq), transform each element with the function\n",
    "# hàm map cho phép chuyển đổi các thành phần trong 1 list theo 1 hàm nào đó\n",
    "list_keyword = [\"toan Khanh Nguyen\", \"xin chao\",\"cac ban\"]\n",
    "x2 = map(lambda x: x.title(), list_keyword)\n",
    "list(x2)"
   ]
  },
  {
   "cell_type": "code",
   "execution_count": 26,
   "id": "3bf8cac8",
   "metadata": {},
   "outputs": [
    {
     "data": {
      "text/plain": [
       "[1, 3, 5, 7, 9]"
      ]
     },
     "execution_count": 26,
     "metadata": {},
     "output_type": "execute_result"
    }
   ],
   "source": [
    "# filter(func, seq), return all element for which function evaluates to True\n",
    "list_number  = [1, 2, 3, 4, 5, 6, 7, 8, 9, 10]\n",
    "x3 = filter(lambda x: x % 2 != 0, list_number)\n",
    "list(x3)"
   ]
  },
  {
   "cell_type": "code",
   "execution_count": 30,
   "id": "241b7929",
   "metadata": {},
   "outputs": [
    {
     "name": "stdout",
     "output_type": "stream",
     "text": [
      "34\n"
     ]
    },
    {
     "data": {
      "text/plain": [
       "9"
      ]
     },
     "execution_count": 30,
     "metadata": {},
     "output_type": "execute_result"
    }
   ],
   "source": [
    "# reduce(func, seq)\n",
    "# func takes 2 argument\n",
    "from functools import reduce\n",
    "sequence = [1,3,5,9,6,2,8]\n",
    "#tinh tong day so\n",
    "print(reduce(lambda a,b:a+b, sequence))\n",
    "# tim max\n",
    "reduce(lambda a,b: a if a>b else b, sequence)"
   ]
  },
  {
   "cell_type": "code",
   "execution_count": null,
   "id": "45c9caf7",
   "metadata": {},
   "outputs": [],
   "source": []
  }
 ],
 "metadata": {
  "kernelspec": {
   "display_name": "Python 3 (ipykernel)",
   "language": "python",
   "name": "python3"
  },
  "language_info": {
   "codemirror_mode": {
    "name": "ipython",
    "version": 3
   },
   "file_extension": ".py",
   "mimetype": "text/x-python",
   "name": "python",
   "nbconvert_exporter": "python",
   "pygments_lexer": "ipython3",
   "version": "3.9.12"
  }
 },
 "nbformat": 4,
 "nbformat_minor": 5
}
